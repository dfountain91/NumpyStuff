{
 "cells": [
  {
   "cell_type": "markdown",
   "id": "limiting-conservative",
   "metadata": {},
   "source": [
    "This is a notebook intended to contain explanations on numpy things."
   ]
  },
  {
   "cell_type": "markdown",
   "id": "major-validity",
   "metadata": {},
   "source": [
    "# Numpy Broadcasting, An Example"
   ]
  },
  {
   "cell_type": "markdown",
   "id": "christian-module",
   "metadata": {},
   "source": [
    "Numpy broadcasting is simply a mechanism to allow array expansion without duplication. It's extremely useful for performing operations on arrays of different sizes and automatically executing operations in parallel.\n",
    "\n",
    "It's useful to think of Numpy Arrays just as containers for data. Just like a database or something else there's more than 1 way to set it up and encode the information. This freedom allows for more solutions but requires documentation for which permutation is being used. "
   ]
  },
  {
   "cell_type": "markdown",
   "id": "clean-airplane",
   "metadata": {},
   "source": [
    "<h3>An example of solving for distance between all points in an array:</h3>\n",
    "\n",
    "What we want here is to take an array, X, filled with points in 2-d and get the distance from each point to every other point. While we could use for-loops numpy lets us do this in parallel quickly. So we know numpy has the tools, unfortunately school tells us how to solve certain problems, not which problems apply to which realities. That's where practice and tutorials like this come in handy. So lets formalize the problem into something Numpy can solve.\n",
    "\n",
    "We want $X[i]-X[j]$ for all i,j in range(0,number of rows/elements/points). This gives us the distance between every point in an array. But there are 2 problems we have to solve: how do we store this information, and how do we perform this operation in parallel? Well we know Numpy can do component-wise operations in parallel, so the question is how do we make the components 'line up' so we can simply execute A-B for some numpy arrays A and B? This is where broadcasting comes to the rescue. \n",
    "\n",
    "Let's take this step by step. First we will generate the points such that the X coordinate is in the first column and the Y coordinate in the second column. For a 2-d array $X[i]-X[j]$ in Numpy is implicitly $X[i][k]-X[j][k]$. So let's try and run this naively:"
   ]
  },
  {
   "cell_type": "code",
   "execution_count": 16,
   "id": "local-activity",
   "metadata": {},
   "outputs": [
    {
     "name": "stdout",
     "output_type": "stream",
     "text": [
      "[[9 4]\n",
      " [9 9]\n",
      " [1 6]\n",
      " [4 6]\n",
      " [8 7]\n",
      " [1 5]\n",
      " [8 9]\n",
      " [2 7]\n",
      " [3 3]\n",
      " [2 4]]\n"
     ]
    },
    {
     "data": {
      "text/plain": [
       "array([[0, 0],\n",
       "       [0, 0],\n",
       "       [0, 0],\n",
       "       [0, 0],\n",
       "       [0, 0],\n",
       "       [0, 0],\n",
       "       [0, 0],\n",
       "       [0, 0],\n",
       "       [0, 0],\n",
       "       [0, 0]])"
      ]
     },
     "execution_count": 16,
     "metadata": {},
     "output_type": "execute_result"
    }
   ],
   "source": [
    "import numpy as np\n",
    "np.random.seed(3)\n",
    "#generate random 10 2-d points, stored as \n",
    "X = np.random.randint(1,10,size = (10,2))\n",
    "\n",
    "print(X)\n",
    "\n",
    "X[:]-X[:]"
   ]
  },
  {
   "cell_type": "markdown",
   "id": "known-leadership",
   "metadata": {},
   "source": [
    "So what happened here? Well clearly we didn't index over $i$ and $j$ separately. By using only ':' inside the index we effectively told number subtract X from X. So we get 0's. Clearly we need a way to make each $i$ \"line up\" with every $j$. The easiest way to do this is to have two 3-d arrays. In 3-d array A we have the points duplicated along the rows or equivalently across the columns, in 3-d array B we have the points duplicated along the columns or equivalently across the rows. The 3rd dimension is for storing the X/Y coordinate. Thus when we subtract A from B the first row will be full of point 1 - all other points. The second row full of point 2 - all other points, etc. If we did B - A the difference would be organized by column. \n",
    "\n",
    "Mathematically we would write this as A = X s.t. X[i_0][j][k] = X[i_1][j][k] for any i_0, i_1 in range(0,n). Similarly for B, B = X s.t. X[i][j_0][k] = X[i][j_1][k] for any j_0, j_1 in range (0,n). \n",
    "\n",
    "The way numpy broadcasting works is it \"fills in\" the dimensions along which we have the copies. This corresponds to the \"Natural Approach\" described below. The other 2 approaches are similar, the only difference being how the information is stored in the array. "
   ]
  },
  {
   "cell_type": "markdown",
   "id": "simple-killer",
   "metadata": {},
   "source": []
  },
  {
   "cell_type": "code",
   "execution_count": 17,
   "id": "mature-calvin",
   "metadata": {},
   "outputs": [],
   "source": [
    "#Generate distances between each point.\n",
    "#What we want: X[k]-X[i] for all k, i. More explicitly X[k][j]-X[i][j] where j is 0(x coord) or 1(y coord).\n",
    "#Need to choose a way to store this information. 3 indicies written = 3d array needed. \n",
    "#Shape of 3d: some combination of 10, 10 and 2 because thats the range of the indicies.\n",
    "\n",
    "\"\"\"Natural approach\n",
    "Storage choice:Y[0][i][j]=distance from point 0 to point i along dimension j. Shape = 1x10x2\n",
    "In general: Y[k][i][j]=distance from point k to point i along dimension j. Shape = 10x10x2\n",
    "How to get: Y[k][i][j] must equal X[k][j]-X[i][j]. Make indicies match: X[k][j] -> X[k][0][j], X[i][j] -> X[0][i][j])\n",
    "How to get indicies to match: use np.newaxis where you want a 0. \n",
    "Note that rows/columns are not switched. Can put colons in order without problem. \n",
    "Arrays will broadcase along 0ed axes if needed to execute operation in parallel \n",
    "\"\"\"\n",
    "\n",
    "Y=X[:,np.newaxis,:] - X[np.newaxis, :,:] #Cleanest solution\n",
    "\n",
    "\"\"\"Alt Approach 1: just switch indicies around!\n",
    "Storage choice: Z[i][j][0]=distance from point 0 to point i along dimension j. Shape = 10x2x1\n",
    "In general: Z[i][j][k]=distance from point k to point i along dimension j. Shape = 10x2x10\n",
    "How to get: Z[i][j][k] must equal X[k][j]-X[i][j]. Make indicies match: X[k][j] -> X[0][j][k], X[i][j] -> X[i][j][0]\n",
    "How to get indicies to match: use np.newaxis where you want a 0. \n",
    "Note that rows/columns switched in first term. Must use a transpose on first term. \n",
    "Arrays will broadcase along 0ed axes if needed to execute in parallel.\n",
    "\"\"\"\n",
    "\n",
    "Z=X.T[np.newaxis,:,:] - X[:,:,np.newaxis] #transpose taken b/c row(X.t)=col(X) and first needs Xs cols first\n",
    "Z_t=np.transpose(Z, axes=[2,0,1]) #Transpose to match Y. [i][j][k]-> [k][i][j]\n",
    "\n",
    "\"\"\"Alt Approach 2: just switch indicies around again!\n",
    "Storage choice: W[j][0][i]=distance from point 0 to point i along dimension j. Shape = 2x1x10\n",
    "In general: W[j][k][i]=distance from point k to point i along dimension j. Shape = 2x10x10\n",
    "How to get: W[j][k][i] must equal X[k][j]-X[i][j]. Make indicies match: X[k][j] -> X[j][k][0], X[i][j] -> X[j][0][i]\n",
    "How to get indicies to match: use np.newaxis where you want a 0.\n",
    "Note that rows/columns switched in both terms. Must use a transpose on both terms.\n",
    "Arrays will broadcase along 0ed axes if needed to execute in parallel.\n",
    "\"\"\"\n",
    "\n",
    "W=X.T[:,:,np.newaxis] - X.T[:,np.newaxis,:] #transpose taken b/c row(X.t)=col(X) and both needs Xs cols first\n",
    "W_t=np.transpose(W, axes=[1,2,0]) #Transpose to match Y. [j][k][i] -> [k][i][j]\n",
    "\n"
   ]
  },
  {
   "cell_type": "markdown",
   "id": "f9ce2ec7",
   "metadata": {},
   "source": [
    "The code below can be used to verify that all the matricies above are isomorphic up to some kind of transposition. "
   ]
  },
  {
   "cell_type": "code",
   "execution_count": 21,
   "id": "actual-extraction",
   "metadata": {},
   "outputs": [
    {
     "name": "stdout",
     "output_type": "stream",
     "text": [
      "Enter a slice to print (0-9):0\n",
      "Slice: 0\n",
      "[[ 0  0  8  5  1  8  1  7  6  7]\n",
      " [ 0 -5 -2 -2 -3 -1 -5 -3  1  0]]\n",
      "[[ 0  0  8  5  1  8  1  7  6  7]\n",
      " [ 0 -5 -2 -2 -3 -1 -5 -3  1  0]]\n",
      "[[ 0  0  8  5  1  8  1  7  6  7]\n",
      " [ 0 -5 -2 -2 -3 -1 -5 -3  1  0]]\n",
      "In general all slices are the same is a True statement\n"
     ]
    }
   ],
   "source": [
    "#verify that all the slices are identical\n",
    "i = int(input(\"Enter a slice to print (0-9):\"))\n",
    "print(\"Slice: \"+str(i))\n",
    "print(Y[i].T)\n",
    "print(Z_t[i].T)\n",
    "print(W_t[i].T)\n",
    "#check if both Y==Z_t and Y==W_t\n",
    "truthval=np.array_equal(Y,Z_t)&np.array_equal(Y,W_t)\n",
    "print(f\"In general all slices are the same is a {truthval} statement\")"
   ]
  },
  {
   "cell_type": "code",
   "execution_count": 23,
   "id": "665327b1",
   "metadata": {},
   "outputs": [
    {
     "name": "stdout",
     "output_type": "stream",
     "text": [
      "[[[ 0  0]\n",
      "  [ 0 -5]\n",
      "  [ 8 -2]\n",
      "  [ 5 -2]\n",
      "  [ 1 -3]\n",
      "  [ 8 -1]\n",
      "  [ 1 -5]\n",
      "  [ 7 -3]\n",
      "  [ 6  1]\n",
      "  [ 7  0]]\n",
      "\n",
      " [[ 0  5]\n",
      "  [ 0  0]\n",
      "  [ 8  3]\n",
      "  [ 5  3]\n",
      "  [ 1  2]\n",
      "  [ 8  4]\n",
      "  [ 1  0]\n",
      "  [ 7  2]\n",
      "  [ 6  6]\n",
      "  [ 7  5]]]\n"
     ]
    }
   ],
   "source": [
    "#Show 2 rows\n",
    "print(Y[:2])"
   ]
  },
  {
   "cell_type": "markdown",
   "id": "1af3b287",
   "metadata": {},
   "source": [
    "Lastly we collapse this down to the euclidean distance by collapsing the 3rd dimension, which contains the distances along the various dimensions (in this case 2). At the end we have a matrix (2-d array) showing the euclidean distance along each point. \n"
   ]
  },
  {
   "cell_type": "code",
   "execution_count": 28,
   "id": "fbff2f23",
   "metadata": {},
   "outputs": [
    {
     "name": "stdout",
     "output_type": "stream",
     "text": [
      "[[0.         5.         8.24621125 5.38516481 3.16227766 8.06225775\n",
      "  5.09901951 7.61577311 6.08276253 7.        ]\n",
      " [5.         0.         8.54400375 5.83095189 2.23606798 8.94427191\n",
      "  1.         7.28010989 8.48528137 8.60232527]]\n"
     ]
    }
   ],
   "source": [
    "D=np.linalg.norm(Y,axis=2)\n",
    "print(D[:2])"
   ]
  },
  {
   "cell_type": "markdown",
   "id": "4cc29ab2",
   "metadata": {},
   "source": [
    "In summary: Broadcasting is demonstrated here as a means to duplicate data along a dimension without actually duplicating the object in memory. Generally the practioner will have a choice of which way the data is encoded, which in turn implies/constraints the desired behavior and use of broadcasting. Note that we did double the work by not taking advantage of the symmetry of the problem but this was meant to be an in-depth example of Numpy broadcasting. "
   ]
  },
  {
   "cell_type": "code",
   "execution_count": null,
   "id": "6de8f2e9",
   "metadata": {},
   "outputs": [],
   "source": []
  }
 ],
 "metadata": {
  "kernelspec": {
   "display_name": "Python 3 (ipykernel)",
   "language": "python",
   "name": "python3"
  },
  "language_info": {
   "codemirror_mode": {
    "name": "ipython",
    "version": 3
   },
   "file_extension": ".py",
   "mimetype": "text/x-python",
   "name": "python",
   "nbconvert_exporter": "python",
   "pygments_lexer": "ipython3",
   "version": "3.8.12"
  }
 },
 "nbformat": 4,
 "nbformat_minor": 5
}

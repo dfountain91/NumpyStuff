{
 "cells": [
  {
   "cell_type": "markdown",
   "id": "limiting-conservative",
   "metadata": {},
   "source": [
    "This is a notebook intended to contain explanations on numpy things."
   ]
  },
  {
   "cell_type": "markdown",
   "id": "major-validity",
   "metadata": {},
   "source": [
    "# Numpy Broadcasting"
   ]
  },
  {
   "cell_type": "markdown",
   "id": "christian-module",
   "metadata": {},
   "source": [
    "Numpy broadcasting is simply a mechanism to allow array expansion without duplication. It's extremely useful for performing operations on arrays of different sizes and automatically executing operations in parallel.\n",
    "\n",
    "It's useful to think of Numpy Arrays just as containers for data. Just like a database or something else there's more than 1 way to set it up and encode the information. This freedom allows for more solutions but requires documentation for which permutation is being used. "
   ]
  },
  {
   "cell_type": "markdown",
   "id": "clean-airplane",
   "metadata": {},
   "source": [
    "<h3>An example of solving for distance between all points in an array:</h3>\n",
    "\n",
    "What we want here is to take an array, X, filled with points in 2-d and get the distance from each point to every other point. While we could use for-loops numpy lets us do this in parallel quickly. So we know numpy has the tools, unfortunately school tells us how to solve certain problems, not which problems apply to which realities. That's where practice and tutorials like this come in handy. So lets formalize the problem into something Numpy can solve.\n",
    "\n",
    "We want $X[i]-X[j]$ for all i,j in range(0,number of rows). This gives us the distance between every point in an array. But there are 2 problems we have to solve: how do we store this information, and how do we perform this operation in parallel? Well we know Numpy can do component-wise operations in parallel, so the question is how do we make the components 'line up' so we can simply execute A-B for some A and some B? This is where broadcasting comes to the rescue!\n",
    "\n",
    "Let's take this step by step. $X[i]-X[j]$ in Numpy is implicitly $X[i][k]-X[j][k]$. So let's try and run this naively. "
   ]
  },
  {
   "cell_type": "code",
   "execution_count": 16,
   "id": "local-activity",
   "metadata": {},
   "outputs": [
    {
     "data": {
      "text/plain": [
       "array([[0, 0],\n",
       "       [0, 0],\n",
       "       [0, 0],\n",
       "       [0, 0],\n",
       "       [0, 0],\n",
       "       [0, 0],\n",
       "       [0, 0],\n",
       "       [0, 0],\n",
       "       [0, 0],\n",
       "       [0, 0]])"
      ]
     },
     "execution_count": 16,
     "metadata": {},
     "output_type": "execute_result"
    }
   ],
   "source": [
    "import numpy as np\n",
    "np.random.seed(3)\n",
    "X = np.random.randint(1,10,size = (10,2))\n",
    "\n",
    "X[:]-X[:]"
   ]
  },
  {
   "cell_type": "markdown",
   "id": "known-leadership",
   "metadata": {},
   "source": [
    "So what happened here? Well clearly we didn't index over $i$ and $j$ separately. By using ':' inside the index for the first access we told numpy to access every row in order, and then subtract from that every row <i>also in order</i>. Clearly we need a way to make $i$ line up with every $j$.\n",
    "\n",
    "But this would generate a new array for every combination of i, j, and k. Since we have 3 indicies we know our storage object needs to similarly be accessed by 3 indicies, lest we leave some results inaccessible. For now we ignore the symmetry of the problem. So lets choose to store it in a 3d array called $D$. Keep in mind this is a <i>choice</i> we could have stored it in some python object or some dataframe equally well. \n",
    "\n",
    "So given we've chosen a 3d array and an operation $X[i][k]-X[j][k]$ we must map this into $D[i][j][k]$. One observation we can make is that j does not affect our first term and i does not affect our second term. So for the first term, this means if we 'duplicate' X along a new axis we can get $X[i][j][k] = X[i][k]$ for all i,j,k. Similarly this also allows us to get $X[i][j][k] = X[j][k]$ for all i,j,k. "
   ]
  },
  {
   "cell_type": "markdown",
   "id": "simple-killer",
   "metadata": {},
   "source": []
  },
  {
   "cell_type": "code",
   "execution_count": 5,
   "id": "mature-calvin",
   "metadata": {},
   "outputs": [
    {
     "name": "stdout",
     "output_type": "stream",
     "text": [
      "enter desired slice (0-9):1\n",
      "Slice: 1\n",
      "[[0 0 8 5 1 8 1 7 6 7]\n",
      " [5 0 3 3 2 4 0 2 6 5]]\n",
      "[[0 0 8 5 1 8 1 7 6 7]\n",
      " [5 0 3 3 2 4 0 2 6 5]]\n",
      "[[0 0 8 5 1 8 1 7 6 7]\n",
      " [5 0 3 3 2 4 0 2 6 5]]\n"
     ]
    }
   ],
   "source": [
    " # generate ten 2-dim vectors at random\n",
    "#Generate distances between each point.\n",
    "#What we want: X[k]-X[i] for all k, i. More explicitly X[k][j]-X[i][j] where j is 0(x coord) or 1(y coord).\n",
    "#Need to choose a way to store this information. 3 indicies written = 3d array needed. \n",
    "#Shape of 3d: some combination of 10, 10 and 2 because thats the range of the indicies.\n",
    "\n",
    "\"\"\"Natural approach\n",
    "Storage choice:Y[0][i][j]=distance from point 0 to point i along dimension j. Shape = 1x10x2\n",
    "In general: Y[k][i][j]=distance from point k to point i along dimension j. Shape = 10x10x2\n",
    "How to get: Y[k][i][j] must equal X[k][j]-X[i][j]. Make indicies match: X[k][j] -> X[k][0][j], X[i][j] -> X[0][i][j])\n",
    "How to get indicies to match: use np.newaxis where you want a 0. \n",
    "Note that rows/columns are not switched. Can put colons in order without problem. \n",
    "Arrays will broadcase along 0ed axes if needed to execute operation in parallel \n",
    "\"\"\"\n",
    "\n",
    "Y=X[:,np.newaxis,:] - X[np.newaxis, :,:] #Cleanest solution\n",
    "\n",
    "\"\"\"Alt Approach 1: just switch indicies around!\n",
    "Storage choice: Z[i][j][0]=distance from point 0 to point i along dimension j. Shape = 10x2x1\n",
    "In general: Z[i][j][k]=distance from point k to point i along dimension j. Shape = 10x2x10\n",
    "How to get: Z[i][j][k] must equal X[k][j]-X[i][j]. Make indicies match: X[k][j] -> X[0][j][k], X[i][j] -> X[i][j][0]\n",
    "How to get indicies to match: use np.newaxis where you want a 0. \n",
    "Note that rows/columns switched in first term. Must use a transpose on first term. \n",
    "Arrays will broadcase along 0ed axes if needed to execute in parallel.\n",
    "\"\"\"\n",
    "\n",
    "Z=X.T[np.newaxis,:,:] - X[:,:,np.newaxis] #transpose taken b/c row(X.t)=col(X) and first needs Xs cols first\n",
    "Z_t=np.transpose(Z, axes=[2,0,1]) #Transpose to match Y. [i][j][k]-> [k][i][j]\n",
    "\n",
    "\"\"\"Alt Approach 2: just switch indicies around again!\n",
    "Storage choice: W[j][0][i]=distance from point 0 to point i along dimension j. Shape = 2x1x10\n",
    "In general: W[j][k][i]=distance from point k to point i along dimension j. Shape = 2x10x10\n",
    "How to get: W[j][k][i] must equal X[k][j]-X[i][j]. Make indicies match: X[k][j] -> X[j][k][0], X[i][j] -> X[j][0][i]\n",
    "How to get indicies to match: use np.newaxis where you want a 0.\n",
    "Note that rows/columns switched in both terms. Must use a transpose on both terms.\n",
    "Arrays will broadcase along 0ed axes if needed to execute in parallel.\n",
    "\"\"\"\n",
    "\n",
    "W=X.T[:,:,np.newaxis] - X.T[:,np.newaxis,:] #transpose taken b/c row(X.t)=col(X) and both needs Xs cols first\n",
    "W_t=np.transpose(W, axes=[1,2,0]) #Transpose to match Y. [j][k][i] -> [k][i][j]\n",
    "\n"
   ]
  },
  {
   "cell_type": "code",
   "execution_count": 14,
   "id": "actual-extraction",
   "metadata": {},
   "outputs": [
    {
     "name": "stdout",
     "output_type": "stream",
     "text": [
      "Enter a slice to print (0-9):5\n",
      "Slice: 5\n",
      "[[-8 -8  0 -3 -7  0 -7 -1 -2 -1]\n",
      " [ 1 -4 -1 -1 -2  0 -4 -2  2  1]]\n",
      "[[-8 -8  0 -3 -7  0 -7 -1 -2 -1]\n",
      " [ 1 -4 -1 -1 -2  0 -4 -2  2  1]]\n",
      "[[-8 -8  0 -3 -7  0 -7 -1 -2 -1]\n",
      " [ 1 -4 -1 -1 -2  0 -4 -2  2  1]]\n",
      "In general all slices are the same is a False statement\n"
     ]
    }
   ],
   "source": [
    "#verify that all the slices are identical\n",
    "i = int(input(\"Enter a slice to print (0-9):\"))\n",
    "print(\"Slice: \"+str(i))\n",
    "print(Y[i].T)\n",
    "print(Z_t[i].T)\n",
    "print(W_t[i].T)\n",
    "#check if both Y==Z_t and Y==W_t\n",
    "truthval=np.array_equal(Y,Z_t)&np.array_equal(Y,W_t)\n",
    "print(f\"In general all slices are the same is a {truthval} statement\")"
   ]
  },
  {
   "cell_type": "code",
   "execution_count": null,
   "id": "eastern-paint",
   "metadata": {},
   "outputs": [],
   "source": []
  }
 ],
 "metadata": {
  "kernelspec": {
   "display_name": "Python 3",
   "language": "python",
   "name": "python3"
  },
  "language_info": {
   "codemirror_mode": {
    "name": "ipython",
    "version": 3
   },
   "file_extension": ".py",
   "mimetype": "text/x-python",
   "name": "python",
   "nbconvert_exporter": "python",
   "pygments_lexer": "ipython3",
   "version": "3.8.5"
  }
 },
 "nbformat": 4,
 "nbformat_minor": 5
}
